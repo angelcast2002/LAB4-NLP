{
 "cells": [
  {
   "cell_type": "markdown",
   "id": "64dcd5be",
   "metadata": {},
   "source": [
    "### Generación del corpus"
   ]
  },
  {
   "cell_type": "code",
   "execution_count": 1,
   "id": "c2a5da12",
   "metadata": {},
   "outputs": [],
   "source": [
    "p1 = \"\"\"El sol se alza cada mañana sobre el horizonte, pintando el cielo de tonos anaranjados y dorados.\n",
    "Los pájaros despiertan su canto y el mundo renace con la luz de un nuevo día.\n",
    "Aprovecha cada amanecer como una invitación a crear algo valioso.\"\"\"\n",
    "p2 = \"\"\"En el corazón del bosque, el susurro del viento recorre las copas de los árboles.\n",
    "Las hojas bailan al compás de una sinfonía natural, mientras los rayos de luz se filtran entre las ramas.\n",
    "Caminar por ese sendero es encontrarse con la esencia pura de la vida.\"\"\"\n",
    "p3 = \"\"\"La lluvia cae suave sobre los campos recién sembrados, nutriendo la tierra sedienta.\n",
    "Cada gota es un poema que riega esperanzas y alimenta sueños ocultos bajo el suelo.\n",
    "Después de la tormenta, surge un arcoíris que nos recuerda la belleza de la calma tras la tempestad.\"\"\"\n",
    "\n",
    "corpus = \"\\n\".join([p1, p2, p3])"
   ]
  },
  {
   "cell_type": "markdown",
   "id": "5130a930",
   "metadata": {},
   "source": [
    "### Tokenización y conteo de N-grams"
   ]
  },
  {
   "cell_type": "code",
   "execution_count": 2,
   "id": "590276a9",
   "metadata": {},
   "outputs": [
    {
     "name": "stdout",
     "output_type": "stream",
     "text": [
      "Top 5 Unigrams: [('la', 9), ('de', 8), ('el', 7), ('los', 4), ('cada', 3)]\n",
      "Top 5 Bigrams: [('de la', 3), ('con la', 2), ('el sol', 1), ('sol se', 1), ('se alza', 1)]\n",
      "Top 5 Trigrams: [('el sol se', 1), ('sol se alza', 1), ('se alza cada', 1), ('alza cada mañana', 1), ('cada mañana sobre', 1)]\n"
     ]
    }
   ],
   "source": [
    "import re\n",
    "from collections import Counter\n",
    "import math\n",
    "\n",
    "def tokenize(text):\n",
    "    text = text.lower()\n",
    "    return re.findall(r\"\\b\\w+\\b\", text)\n",
    "\n",
    "def build_ngrams(tokens, n):\n",
    "    return [\" \".join(tokens[i:i+n]) for i in range(len(tokens)-n+1)]\n",
    "\n",
    "tokens = tokenize(corpus)\n",
    "unigrams = Counter(tokens)\n",
    "bigrams = Counter(build_ngrams(tokens, 2))\n",
    "trigrams = Counter(build_ngrams(tokens, 3))\n",
    "\n",
    "print(\"Top 5 Unigrams:\", unigrams.most_common(5))\n",
    "print(\"Top 5 Bigrams:\", bigrams.most_common(5))\n",
    "print(\"Top 5 Trigrams:\", trigrams.most_common(5))"
   ]
  },
  {
   "cell_type": "markdown",
   "id": "44d1b161",
   "metadata": {},
   "source": [
    "### Cálculo de entropía y perplejidad en mini-corpus"
   ]
  },
  {
   "cell_type": "code",
   "execution_count": 3,
   "id": "a10b0532",
   "metadata": {},
   "outputs": [
    {
     "name": "stdout",
     "output_type": "stream",
     "text": [
      "\n",
      "Mini-corpus Unigram Probabilities: {'a': 0.6666666666666666, 'b': 0.3333333333333333}\n",
      "Entropía: 0.9183 bits\n",
      "Perplejidad: 1.8899\n"
     ]
    }
   ],
   "source": [
    "mini_corpus = [\"a a b\", \"a b a\"]\n",
    "mini_tokens = [t for sent in mini_corpus for t in tokenize(sent)]\n",
    "mini_unigrams = Counter(mini_tokens)\n",
    "total = sum(mini_unigrams.values())\n",
    "probs = {w: c/total for w, c in mini_unigrams.items()}\n",
    "\n",
    "entropy = -sum(p * math.log2(p) for p in probs.values())\n",
    "perplexity = 2 ** entropy\n",
    "\n",
    "print(f\"\\nMini-corpus Unigram Probabilities: {probs}\")\n",
    "print(f\"Entropía: {entropy:.4f} bits\")\n",
    "print(f\"Perplejidad: {perplexity:.4f}\")"
   ]
  },
  {
   "cell_type": "markdown",
   "id": "c8f0a4fd",
   "metadata": {},
   "source": [
    "### Smoothing Laplace (Add-1) para bigramas"
   ]
  },
  {
   "cell_type": "code",
   "execution_count": 4,
   "id": "d5ab6710",
   "metadata": {},
   "outputs": [
    {
     "name": "stdout",
     "output_type": "stream",
     "text": [
      "\n",
      "P_Laplace(pájaros despiertan): 0.0206\n"
     ]
    }
   ],
   "source": [
    "V = len(unigrams)\n",
    "def laplace_prob(bigram):\n",
    "    w1, w2 = bigram.split()\n",
    "    return (bigrams.get(bigram, 0) + 1) / (unigrams[w1] + V)\n",
    "\n",
    "example = \"pájaros despiertan\"\n",
    "print(f\"\\nP_Laplace({example}): {laplace_prob(example):.4f}\")"
   ]
  },
  {
   "cell_type": "markdown",
   "id": "067e042f",
   "metadata": {},
   "source": [
    "### Smoothing Good–Turing para bigramas"
   ]
  },
  {
   "cell_type": "code",
   "execution_count": 5,
   "id": "36a57d0c",
   "metadata": {},
   "outputs": [
    {
     "name": "stdout",
     "output_type": "stream",
     "text": [
      "\n",
      "Good-Turing adjusted counts C* for some r:\n",
      " r=1  C*=0.0154\n",
      " r=2  C*=3.0000\n",
      " r=3  C*=0.0000\n",
      "P0 (prob. unseen): 0.9630\n"
     ]
    }
   ],
   "source": [
    "freq_of_freq = Counter(bigrams.values())\n",
    "N = sum(bigrams.values())\n",
    "C_star = {}\n",
    "for r, Nr in freq_of_freq.items():\n",
    "    Nr1 = freq_of_freq.get(r+1, 0)\n",
    "    C_star[r] = (r+1)*Nr1/Nr if Nr > 0 else 0\n",
    "P0 = freq_of_freq.get(1, 0) / N\n",
    "\n",
    "print(\"\\nGood-Turing adjusted counts C* for some r:\")\n",
    "for r in sorted(list(C_star))[:5]:\n",
    "    print(f\" r={r}  C*={C_star[r]:.4f}\")\n",
    "print(f\"P0 (prob. unseen): {P0:.4f}\")"
   ]
  }
 ],
 "metadata": {
  "kernelspec": {
   "display_name": "base",
   "language": "python",
   "name": "python3"
  },
  "language_info": {
   "codemirror_mode": {
    "name": "ipython",
    "version": 3
   },
   "file_extension": ".py",
   "mimetype": "text/x-python",
   "name": "python",
   "nbconvert_exporter": "python",
   "pygments_lexer": "ipython3",
   "version": "3.12.3"
  }
 },
 "nbformat": 4,
 "nbformat_minor": 5
}
